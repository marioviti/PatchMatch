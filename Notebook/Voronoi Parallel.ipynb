{
 "cells": [
  {
   "cell_type": "code",
   "execution_count": 1,
   "metadata": {},
   "outputs": [
    {
     "name": "stdout",
     "output_type": "stream",
     "text": [
      "<Managed Device 0>\n"
     ]
    }
   ],
   "source": [
    "from __future__ import division\n",
    "from numba import cuda, float32\n",
    "import numpy\n",
    "import math\n",
    "import numpy as np\n",
    "from numba import cuda\n",
    "print(cuda.gpus)\n",
    "              "
   ]
  },
  {
   "cell_type": "markdown",
   "metadata": {},
   "source": [
    "# Voronoi with jumping flood\n",
    "\n",
    "Jumping flood is an efficient pattern of communication that exploits parallel computing\n",
    "\n",
    "![alt text](https://csdl-images.computer.org/trans/tg/2011/03/figures/ttg20110303452.gif)\n",
    "\n"
   ]
  },
  {
   "cell_type": "code",
   "execution_count": 2,
   "metadata": {},
   "outputs": [],
   "source": [
    "Seeds_Position = [(50,50), (100,250), (300,200), (169,169), (10,40)]\n",
    "\n",
    "Seed_number = len(Seeds_Position)\n",
    "A = np.zeros((320,320)) -1\n",
    "for i in range(len(Seeds_Position)):\n",
    "    A[Seeds_Position[i]] = i\n",
    "\n",
    "offsets = [ (-1,-1),(-1,0),(-1,1),(0,-1),(0,1),(1,-1),(1,0),(1,1),(0,0) ]\n",
    "offsets_number = len(offsets)\n",
    "\n",
    "@cuda.jit\n",
    "def Voronoi(A, B, Seeds_Position, offsets, k):\n",
    "    cellx, celly = cuda.grid(2)\n",
    "    \n",
    "    soffsets= cuda.shared.array(shape=(offsets_number, 2), dtype=float32)\n",
    "    sSeeds_Position = cuda.shared.array(shape=(Seed_number, 2), dtype=float32)\n",
    "    \n",
    "    # first thread of each block copies Seeds_Position and offsets to shared memory\n",
    "    tx = cuda.threadIdx.x\n",
    "    ty = cuda.threadIdx.y\n",
    "    if tx == 0 and ty == 0:\n",
    "        cuda.syncthreads()\n",
    "        for i in range(offsets_number):\n",
    "            soffsets[i,0] = offsets[i,0]\n",
    "            soffsets[i,1] = offsets[i,1]\n",
    "        for i in range(Seed_number):\n",
    "            sSeeds_Position[i,0] = Seeds_Position[i,0]\n",
    "            sSeeds_Position[i,1] = Seeds_Position[i,1]\n",
    "        cuda.syncthreads()\n",
    "        \n",
    "    seed = A[cellx,celly]\n",
    "    if (seed < 0):\n",
    "        return\n",
    "    \n",
    "    for i in range(len(offsets)):\n",
    "        nextCellx = int(cellx + k*soffsets[i][0])\n",
    "        nextCelly = int(celly + k*soffsets[i][1])\n",
    "        \n",
    "        if nextCellx>0 and nextCellx<A.shape[0] and nextCelly>0 and nextCelly<A.shape[1]:\n",
    "            \n",
    "            # Critical Session\n",
    "            cuda.syncthreads()\n",
    "\n",
    "            nextSeed = B[nextCellx,nextCelly]\n",
    "            if nextSeed < 0:\n",
    "                B[nextCellx,nextCelly] = seed\n",
    "            else:\n",
    "                # Read shared memory\n",
    "                seedx,seedy = sSeeds_Position[int(seed)]\n",
    "                nextSeedx,nextSeedy = sSeeds_Position[int(nextSeed)]\n",
    "                \n",
    "                # compute distance from seed and nextSeed\n",
    "                dist_seed = (nextCellx - seedx)**2 + (nextCelly - seedy)**2\n",
    "                dist_nextSeed = (nextCellx - nextSeedx)**2 + (nextCelly - nextSeedy)**2\n",
    "                if dist_seed < dist_nextSeed:\n",
    "                    B[nextCellx,nextCelly] = seed\n",
    "                    \n",
    "            cuda.syncthreads()"
   ]
  },
  {
   "cell_type": "code",
   "execution_count": 3,
   "metadata": {},
   "outputs": [
    {
     "name": "stdout",
     "output_type": "stream",
     "text": [
      "(320, 320)\n",
      "(10, 10)\n",
      "(32, 32)\n"
     ]
    }
   ],
   "source": [
    "\n",
    "n,m = A.shape       \n",
    "A_global_mem = cuda.to_device(A)\n",
    "B_global_mem = cuda.to_device(A)\n",
    "Seeds_Position_global_mem = cuda.to_device(np.array(Seeds_Position,dtype=np.int32))\n",
    "offsets_global_mem = cuda.to_device(np.array(offsets,dtype=np.int32))\n",
    "\n",
    "\n",
    "TPB = 32\n",
    "threadsperblock = (TPB,TPB)\n",
    "blockspergrid = ((n+TPB-1)//TPB, (m+TPB-1)//TPB)\n",
    "print(A.shape)\n",
    "print(blockspergrid)\n",
    "print(threadsperblock)\n",
    "\n",
    "q = 2\n",
    "k = n\n",
    "while(k>0):\n",
    "    k = n//(2**q)\n",
    "    q += 1\n",
    "    if q%2 == 0:\n",
    "        src,dst = A_global_mem,B_global_mem\n",
    "    else:\n",
    "        src,dst = B_global_mem,A_global_mem\n",
    "    Voronoi[blockspergrid, threadsperblock](src, dst,\n",
    "                                            Seeds_Position_global_mem, \n",
    "                                            offsets_global_mem,\n",
    "                                            k)\n",
    "\n",
    "res = dst.copy_to_host()"
   ]
  },
  {
   "cell_type": "code",
   "execution_count": 4,
   "metadata": {},
   "outputs": [
    {
     "name": "stdout",
     "output_type": "stream",
     "text": [
      "Populating the interactive namespace from numpy and matplotlib\n"
     ]
    },
    {
     "name": "stderr",
     "output_type": "stream",
     "text": [
      "/home/mario/anaconda3/envs/computer_vision/lib/python3.6/site-packages/IPython/core/magics/pylab.py:160: UserWarning: pylab import has clobbered these variables: ['float32']\n",
      "`%matplotlib` prevents importing * from pylab and numpy\n",
      "  \"\\n`%matplotlib` prevents importing * from pylab and numpy\"\n"
     ]
    },
    {
     "data": {
      "image/png": "[encoded data removed]",
      "text/plain": [
       "<matplotlib.figure.Figure at 0x7efed57822e8>"
      ]
     },
     "metadata": {},
     "output_type": "display_data"
    },
    {
     "data": {
      "image/png": "[encoded data removed]",
      "text/plain": [
       "<matplotlib.figure.Figure at 0x7efec527b908>"
      ]
     },
     "metadata": {},
     "output_type": "display_data"
    }
   ],
   "source": [
    "import matplotlib.pyplot as plt\n",
    "%pylab inline\n",
    "pylab.rcParams['figure.figsize'] = (20, 6)\n",
    "\n",
    "plt.imshow(A)\n",
    "plt.show()\n",
    "\n",
    "plt.imshow(res)\n",
    "plt.show()"
   ]
  }
 ],
 "metadata": {
  "kernelspec": {
   "display_name": "Python 3",
   "language": "python",
   "name": "python3"
  },
  "language_info": {
   "codemirror_mode": {
    "name": "ipython",
    "version": 3
   },
   "file_extension": ".py",
   "mimetype": "text/x-python",
   "name": "python",
   "nbconvert_exporter": "python",
   "pygments_lexer": "ipython3",
   "version": "3.6.3"
  }
 },
 "nbformat": 4,
 "nbformat_minor": 2
}
