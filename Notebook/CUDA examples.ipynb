{
 "cells": [
  {
   "cell_type": "markdown",
   "metadata": {},
   "source": [
    "@Credits to \n",
    "https://nyu-cds.github.io/python-numba/05-cuda/"
   ]
  },
  {
   "cell_type": "code",
   "execution_count": 33,
   "metadata": {},
   "outputs": [
    {
     "name": "stdout",
     "output_type": "stream",
     "text": [
      "<Managed Device 0>\n"
     ]
    }
   ],
   "source": [
    "import numpy as np\n",
    "from numba import cuda\n",
    "print(cuda.gpus)"
   ]
  },
  {
   "cell_type": "markdown",
   "metadata": {},
   "source": [
    "## Kernel declaration\n",
    "\n",
    "A kernel function is a GPU function that is meant to be called from CPU code. It has two fundamental characteristics:\n",
    "\n",
    "*    kernels cannot explicitly return a value; all result data must be written to an array passed to the function (if computing a scalar, you will probably pass a one-element array);\n",
    "*    kernels explicitly declare their thread hierarchy when called: i.e. the number of thread blocks and the number of threads per block (note that while a kernel is compiled once, it can be called multiple times with different block sizes or grid sizes).\n"
   ]
  },
  {
   "cell_type": "code",
   "execution_count": 21,
   "metadata": {},
   "outputs": [],
   "source": [
    "@cuda.jit\n",
    "def my_kernel(io_array):\n",
    "    \"\"\"\n",
    "    Code for kernel.\n",
    "    \"\"\"\n",
    "    # code here"
   ]
  },
  {
   "cell_type": "markdown",
   "metadata": {},
   "source": [
    "## Kernel invovocation\n",
    "There are two main steps:\n",
    "\n",
    "*   Instantiate the kernel proper, by specifying a number of blocks per grid and a number of threads per block. The product of the two will give the total number of threads launched. Kernel instantiation is done by taking the compiled kernel function and indexing it with a tuple of integers.\n",
    "*    Running the kernel, by passing it the input array (and any separate output arrays if necessary). By default, running a kernel is synchronous: the function returns when the kernel has finished executing and the data is synchronized back.\n"
   ]
  },
  {
   "cell_type": "code",
   "execution_count": 23,
   "metadata": {
    "collapsed": true
   },
   "outputs": [
    {
     "name": "stdout",
     "output_type": "stream",
     "text": [
      "[ 1.  1.  1.  1.  1.  1.  1.  1.  1.  1.  1.  1.  1.  1.  1.  1.  1.  1.\n",
      "  1.  1.  1.  1.  1.  1.  1.  1.  1.  1.  1.  1.  1.  1.  1.  1.  1.  1.\n",
      "  1.  1.  1.  1.  1.  1.  1.  1.  1.  1.  1.  1.  1.  1.  1.  1.  1.  1.\n",
      "  1.  1.  1.  1.  1.  1.  1.  1.  1.  1.  1.  1.  1.  1.  1.  1.  1.  1.\n",
      "  1.  1.  1.  1.  1.  1.  1.  1.  1.  1.  1.  1.  1.  1.  1.  1.  1.  1.\n",
      "  1.  1.  1.  1.  1.  1.  1.  1.  1.  1.  1.  1.  1.  1.  1.  1.  1.  1.\n",
      "  1.  1.  1.  1.  1.  1.  1.  1.  1.  1.  1.  1.  1.  1.  1.  1.  1.  1.\n",
      "  1.  1.  1.  1.  1.  1.  1.  1.  1.  1.  1.  1.  1.  1.  1.  1.  1.  1.\n",
      "  1.  1.  1.  1.  1.  1.  1.  1.  1.  1.  1.  1.  1.  1.  1.  1.  1.  1.\n",
      "  1.  1.  1.  1.  1.  1.  1.  1.  1.  1.  1.  1.  1.  1.  1.  1.  1.  1.\n",
      "  1.  1.  1.  1.  1.  1.  1.  1.  1.  1.  1.  1.  1.  1.  1.  1.  1.  1.\n",
      "  1.  1.  1.  1.  1.  1.  1.  1.  1.  1.  1.  1.  1.  1.  1.  1.  1.  1.\n",
      "  1.  1.  1.  1.  1.  1.  1.  1.  1.  1.  1.  1.  1.  1.  1.  1.  1.  1.\n",
      "  1.  1.  1.  1.  1.  1.  1.  1.  1.  1.  1.  1.  1.  1.  1.  1.  1.  1.\n",
      "  1.  1.  1.  1.]\n"
     ]
    }
   ],
   "source": [
    "import numpy\n",
    "\n",
    "# Create the data array - usually initialized some other way\n",
    "data = numpy.ones(256)\n",
    "\n",
    "# Set the number of threads in a block\n",
    "threadsperblock = 32 \n",
    "\n",
    "# Calculate the number of thread blocks in the grid\n",
    "blockspergrid = (data.size + (threadsperblock - 1)) // threadsperblock\n",
    "\n",
    "# Now start the kernel\n",
    "my_kernel[blockspergrid, threadsperblock](data)\n",
    "\n",
    "# Print the result\n",
    "print(data)"
   ]
  },
  {
   "cell_type": "markdown",
   "metadata": {},
   "source": [
    "## Choosing the block size\n",
    "\n",
    "The two-level thread hierarchy is important for the following reasons:\n",
    "\n",
    "*    On the software side, the block size determines how many threads share a given area of shared memory.\n",
    "*    On the hardware side, the block size must be large enough for full occupation of execution units; recommendations can be found in the CUDA C Programming Guide.\n",
    "\n",
    "The block size you choose depends on a range of factors, including:\n",
    "\n",
    "*    The size of the data array\n",
    "*    The size of the shared memory per block (e.g. 64KB)\n",
    "*    The maximum number of threads per block supported by the hardware (e.g. 512 or 1024)\n",
    "*    The maximum number of threads per multiprocessor (MP) (e.g. 2048)\n",
    "*    The maximum number of blocks per MP (e.g. 32)\n",
    "*    The number of threads that can be executed concurrently (a “warp” i.e. 32)\n",
    "\n",
    "The execution of threads in a warp has a big effect on the computational throughput. If all threads in a warp are executing the same instruction then they can all be executed in parallel. But if one or more threads is executing a different instruction, the warp has to be split into groups of threads, and these groups execute serially.\n",
    "\n",
    "Rules of thumb for threads per block:\n",
    "\n",
    "*    Should be a round multiple of the warp size (32)\n",
    "*    A good place to start is 128-512 but benchmarking is required to determine the optimal value.\n",
    "\n",
    "Each streaming multiprocessor (SP) on the GPU must have enough active warps to achieve maximum throughput. In other words, the blocksize is usually selected to maximize the “occupancy”. See the CUDA (http://developer.download.nvidia.com/compute/cuda/CUDA_Occupancy_calculator.xls)\n",
    "Occupancy Calculator spreadsheet for more details."
   ]
  },
  {
   "cell_type": "markdown",
   "metadata": {},
   "source": [
    "## Thread positioning\n",
    "\n",
    "When running a kernel, the kernel function’s code is executed by every thread once. It therefore has to know which thread it is in, in order to know which array element(s) it is responsible for. More complex algorithms may define more complex responsibilities, but the underlying principle is the same.\n",
    "\n",
    "To help deal with multi-dimensional arrays, CUDA allows you to specify multi-dimensional blocks and grids. In the example above, you could make blockspergrid and threadsperblock tuples of one, two or three integers. Compared to 1-dimensional declarations of equivalent sizes, this doesn’t change anything to the efficiency or behaviour of generated code, but can help you write your algorithms in a more natural way.\n",
    "\n",
    "One way is for the thread to determines its position in the grid and block and manually compute the corresponding array position:"
   ]
  },
  {
   "cell_type": "code",
   "execution_count": 25,
   "metadata": {},
   "outputs": [],
   "source": [
    "@cuda.jit\n",
    "def my_kernel(io_array):\n",
    "    # Thread id in a 1D block\n",
    "    tx = cuda.threadIdx.x\n",
    "    # Block id in a 1D grid\n",
    "    ty = cuda.blockIdx.x\n",
    "    # Block width, i.e. number of threads per block\n",
    "    bw = cuda.blockDim.x\n",
    "    # Compute flattened index inside the array\n",
    "    pos = tx + ty * bw\n",
    "    if pos < io_array.size:  # Check array boundaries\n",
    "        io_array[pos] *= 2 # do the computation"
   ]
  },
  {
   "cell_type": "code",
   "execution_count": 28,
   "metadata": {
    "collapsed": true
   },
   "outputs": [
    {
     "name": "stdout",
     "output_type": "stream",
     "text": [
      "[ 8.  8.  8.  8.  8.  8.  8.  8.  8.  8.  8.  8.  8.  8.  8.  8.  8.  8.\n",
      "  8.  8.  8.  8.  8.  8.  8.  8.  8.  8.  8.  8.  8.  8.  8.  8.  8.  8.\n",
      "  8.  8.  8.  8.  8.  8.  8.  8.  8.  8.  8.  8.  8.  8.  8.  8.  8.  8.\n",
      "  8.  8.  8.  8.  8.  8.  8.  8.  8.  8.  8.  8.  8.  8.  8.  8.  8.  8.\n",
      "  8.  8.  8.  8.  8.  8.  8.  8.  8.  8.  8.  8.  8.  8.  8.  8.  8.  8.\n",
      "  8.  8.  8.  8.  8.  8.  8.  8.  8.  8.  8.  8.  8.  8.  8.  8.  8.  8.\n",
      "  8.  8.  8.  8.  8.  8.  8.  8.  8.  8.  8.  8.  8.  8.  8.  8.  8.  8.\n",
      "  8.  8.  8.  8.  8.  8.  8.  8.  8.  8.  8.  8.  8.  8.  8.  8.  8.  8.\n",
      "  8.  8.  8.  8.  8.  8.  8.  8.  8.  8.  8.  8.  8.  8.  8.  8.  8.  8.\n",
      "  8.  8.  8.  8.  8.  8.  8.  8.  8.  8.  8.  8.  8.  8.  8.  8.  8.  8.\n",
      "  8.  8.  8.  8.  8.  8.  8.  8.  8.  8.  8.  8.  8.  8.  8.  8.  8.  8.\n",
      "  8.  8.  8.  8.  8.  8.  8.  8.  8.  8.  8.  8.  8.  8.  8.  8.  8.  8.\n",
      "  8.  8.  8.  8.  8.  8.  8.  8.  8.  8.  8.  8.  8.  8.  8.  8.  8.  8.\n",
      "  8.  8.  8.  8.  8.  8.  8.  8.  8.  8.  8.  8.  8.  8.  8.  8.  8.  8.\n",
      "  8.  8.  8.  8.]\n"
     ]
    }
   ],
   "source": [
    "# Now start the kernel\n",
    "my_kernel[blockspergrid, threadsperblock](data)\n",
    "\n",
    "# Print the result\n",
    "print(data)"
   ]
  },
  {
   "cell_type": "markdown",
   "metadata": {},
   "source": [
    "Note: Unless you are sure the block size and grid size is a divisor of your array size, you must check boundaries as shown above.\n",
    "\n",
    "The following special objects are provided by the CUDA backend for the sole purpose of knowing the geometry of the thread hierarchy and the position of the current thread within that geometry:\n",
    "\n",
    "*    numba.cuda.threadIdx - The thread indices in the current thread block. For 1-dimensional blocks, the index (given by the x attribute) is an integer spanning the range from 0 to numba.cuda.blockDim - 1. A similar rule exists for each dimension when more than one dimension is used.\n",
    "*    numba.cuda.blockDim - The shape of the block of threads, as declared when instantiating the kernel. This value is the same for all threads in a given kernel, even if they belong to different blocks (i.e. each block is “full”).\n",
    "*    numba.cuda.blockIdx - The block indices in the grid of threads launched a kernel. For a 1-dimensional grid, the index (given by the x attribute) is an integer spanning the range from 0 to numba.cuda.gridDim - 1. A similar rule exists for each dimension when more than one dimension is used.\n",
    "*    numba.cuda.gridDim - The shape of the grid of blocks, i.e. the total number of blocks launched by this kernel invocation, as declared when instantiating the kernel.\n",
    "\n",
    "These objects can be 1-, 2- or 3-dimensional, depending on how the kernel was invoked. To access the value at each dimension, use the x, y and z attributes of these objects, respectively."
   ]
  },
  {
   "cell_type": "markdown",
   "metadata": {},
   "source": [
    "## Absolute positions\n",
    "\n",
    "Simple algorithms will tend to always use thread indices in the same way as shown in the example above. Numba provides additional facilities to automate such calculations:\n",
    "\n",
    "*    numba.cuda.grid(ndim) - Return the absolute position of the current thread in the entire grid of blocks. ndim should correspond to the number of dimensions declared when instantiating the kernel. If ndim is 1, a single integer is returned. If ndim is 2 or 3, a tuple of the given number of integers is returned.\n",
    "*    numba.cuda.gridsize(ndim) - Return the absolute size (or shape) in threads of the entire grid of blocks. ndim has the same meaning as in grid() above.\n",
    "\n",
    "Using these functions, the our example can become:"
   ]
  },
  {
   "cell_type": "code",
   "execution_count": 29,
   "metadata": {},
   "outputs": [],
   "source": [
    "@cuda.jit\n",
    "def my_kernel2(io_array):\n",
    "    pos = cuda.grid(1)\n",
    "    if pos < io_array.size:\n",
    "        io_array[pos] *= 2 # do the computation"
   ]
  },
  {
   "cell_type": "markdown",
   "metadata": {},
   "source": [
    "## Memory management\n",
    "\n",
    "Numba has been automatically transferring the NumPy arrays to the device when you invoke the kernel. However, it can only do so conservatively by always transferring the device memory back to the host when a kernel finishes. To avoid the unnecessary transfer for read-only arrays, it is possible to manually control the transfer."
   ]
  },
  {
   "cell_type": "code",
   "execution_count": 31,
   "metadata": {},
   "outputs": [],
   "source": [
    "# Allocates empty device ndarray\n",
    "shape = (int(10e6))\n",
    "device_array = cuda.device_array( shape )"
   ]
  },
  {
   "cell_type": "code",
   "execution_count": 33,
   "metadata": {},
   "outputs": [],
   "source": [
    "# Allocate and transfer a NumPy ndarray to the device.\n",
    "array = np.ones(int(10e6))\n",
    "device_array = cuda.to_device( array )"
   ]
  },
  {
   "cell_type": "markdown",
   "metadata": {},
   "source": [
    "## Matrix Multiplication\n",
    "\n",
    "The following code sample is a straightforward implementation of matrix multiplication for matrices where each thread reads one row of A and one column of B and computes the corresponding element of C. For input arrays where A.shape == (m, n) and B.shape == (n, p) then the result shape will be C.shape = (m, p)."
   ]
  },
  {
   "cell_type": "code",
   "execution_count": 39,
   "metadata": {
    "collapsed": true
   },
   "outputs": [
    {
     "name": "stdout",
     "output_type": "stream",
     "text": [
      "[[ 144.  144.  144.  144.  144.  144.  144.  144.  144.  144.  144.  144.\n",
      "   144.  144.  144.  144.  144.  144.  144.  144.  144.  144.]\n",
      " [ 144.  144.  144.  144.  144.  144.  144.  144.  144.  144.  144.  144.\n",
      "   144.  144.  144.  144.  144.  144.  144.  144.  144.  144.]\n",
      " [ 144.  144.  144.  144.  144.  144.  144.  144.  144.  144.  144.  144.\n",
      "   144.  144.  144.  144.  144.  144.  144.  144.  144.  144.]\n",
      " [ 144.  144.  144.  144.  144.  144.  144.  144.  144.  144.  144.  144.\n",
      "   144.  144.  144.  144.  144.  144.  144.  144.  144.  144.]\n",
      " [ 144.  144.  144.  144.  144.  144.  144.  144.  144.  144.  144.  144.\n",
      "   144.  144.  144.  144.  144.  144.  144.  144.  144.  144.]\n",
      " [ 144.  144.  144.  144.  144.  144.  144.  144.  144.  144.  144.  144.\n",
      "   144.  144.  144.  144.  144.  144.  144.  144.  144.  144.]\n",
      " [ 144.  144.  144.  144.  144.  144.  144.  144.  144.  144.  144.  144.\n",
      "   144.  144.  144.  144.  144.  144.  144.  144.  144.  144.]\n",
      " [ 144.  144.  144.  144.  144.  144.  144.  144.  144.  144.  144.  144.\n",
      "   144.  144.  144.  144.  144.  144.  144.  144.  144.  144.]\n",
      " [ 144.  144.  144.  144.  144.  144.  144.  144.  144.  144.  144.  144.\n",
      "   144.  144.  144.  144.  144.  144.  144.  144.  144.  144.]\n",
      " [ 144.  144.  144.  144.  144.  144.  144.  144.  144.  144.  144.  144.\n",
      "   144.  144.  144.  144.  144.  144.  144.  144.  144.  144.]\n",
      " [ 144.  144.  144.  144.  144.  144.  144.  144.  144.  144.  144.  144.\n",
      "   144.  144.  144.  144.  144.  144.  144.  144.  144.  144.]\n",
      " [ 144.  144.  144.  144.  144.  144.  144.  144.  144.  144.  144.  144.\n",
      "   144.  144.  144.  144.  144.  144.  144.  144.  144.  144.]\n",
      " [ 144.  144.  144.  144.  144.  144.  144.  144.  144.  144.  144.  144.\n",
      "   144.  144.  144.  144.  144.  144.  144.  144.  144.  144.]\n",
      " [ 144.  144.  144.  144.  144.  144.  144.  144.  144.  144.  144.  144.\n",
      "   144.  144.  144.  144.  144.  144.  144.  144.  144.  144.]\n",
      " [ 144.  144.  144.  144.  144.  144.  144.  144.  144.  144.  144.  144.\n",
      "   144.  144.  144.  144.  144.  144.  144.  144.  144.  144.]\n",
      " [ 144.  144.  144.  144.  144.  144.  144.  144.  144.  144.  144.  144.\n",
      "   144.  144.  144.  144.  144.  144.  144.  144.  144.  144.]\n",
      " [ 144.  144.  144.  144.  144.  144.  144.  144.  144.  144.  144.  144.\n",
      "   144.  144.  144.  144.  144.  144.  144.  144.  144.  144.]\n",
      " [ 144.  144.  144.  144.  144.  144.  144.  144.  144.  144.  144.  144.\n",
      "   144.  144.  144.  144.  144.  144.  144.  144.  144.  144.]\n",
      " [ 144.  144.  144.  144.  144.  144.  144.  144.  144.  144.  144.  144.\n",
      "   144.  144.  144.  144.  144.  144.  144.  144.  144.  144.]\n",
      " [ 144.  144.  144.  144.  144.  144.  144.  144.  144.  144.  144.  144.\n",
      "   144.  144.  144.  144.  144.  144.  144.  144.  144.  144.]\n",
      " [ 144.  144.  144.  144.  144.  144.  144.  144.  144.  144.  144.  144.\n",
      "   144.  144.  144.  144.  144.  144.  144.  144.  144.  144.]\n",
      " [ 144.  144.  144.  144.  144.  144.  144.  144.  144.  144.  144.  144.\n",
      "   144.  144.  144.  144.  144.  144.  144.  144.  144.  144.]\n",
      " [ 144.  144.  144.  144.  144.  144.  144.  144.  144.  144.  144.  144.\n",
      "   144.  144.  144.  144.  144.  144.  144.  144.  144.  144.]\n",
      " [ 144.  144.  144.  144.  144.  144.  144.  144.  144.  144.  144.  144.\n",
      "   144.  144.  144.  144.  144.  144.  144.  144.  144.  144.]]\n"
     ]
    }
   ],
   "source": [
    "from __future__ import division\n",
    "from numba import cuda\n",
    "import numpy\n",
    "import math\n",
    "\n",
    "# CUDA kernel\n",
    "@cuda.jit\n",
    "def matmul(A, B, C):\n",
    "    \"\"\"Perform matrix multiplication of C = A * B\n",
    "    \"\"\"\n",
    "    row, col = cuda.grid(2)\n",
    "    if row < C.shape[0] and col < C.shape[1]:\n",
    "        tmp = 0.\n",
    "        for k in range(A.shape[1]):\n",
    "            tmp += A[row, k] * B[k, col]\n",
    "        C[row, col] = tmp\n",
    "        \n",
    "# Host code\n",
    "\n",
    "# Initialize the data arrays\n",
    "A = numpy.full((24, 12), 3, numpy.float) # matrix containing all 3's\n",
    "B = numpy.full((12, 22), 4, numpy.float) # matrix containing all 4's\n",
    "\n",
    "# Copy the arrays to the device\n",
    "A_global_mem = cuda.to_device(A)\n",
    "B_global_mem = cuda.to_device(B)\n",
    "\n",
    "# Allocate memory on the device for the result\n",
    "C_global_mem = cuda.device_array((24, 22))\n",
    "\n",
    "# Configure the blocks\n",
    "threadsperblock = (16, 16)\n",
    "blockspergrid_x = int(math.ceil(A.shape[0] / threadsperblock[0]))\n",
    "blockspergrid_y = int(math.ceil(B.shape[1] / threadsperblock[1]))\n",
    "blockspergrid = (blockspergrid_x, blockspergrid_y)\n",
    "\n",
    "# Start the kernel \n",
    "matmul[blockspergrid, threadsperblock](A_global_mem, B_global_mem, C_global_mem)\n",
    "\n",
    "# Copy the result back to the host\n",
    "C = C_global_mem.copy_to_host()\n",
    "\n",
    "print(C)"
   ]
  },
  {
   "cell_type": "markdown",
   "metadata": {},
   "source": [
    "A problem with this code is that each thread is reading from the global memory containing the copies of A and B. In fact, the global memory is read B.shape[1] times and A.shape[0] times. Since Global memory is fairly slow, this results in an inefficient use of GPU."
   ]
  },
  {
   "cell_type": "markdown",
   "metadata": {},
   "source": [
    "## Shared memory and thread synchronization\n",
    "\n",
    "A limited amount of shared memory can be allocated on the device to speed up access to data, when necessary. That memory will be shared (i.e. both readable and writable) amongst all threads belonging to a given block and has faster access times than regular device memory. It also allows threads to cooperate on a given solution. You can think of it as a manually-managed data cache.\n",
    "\n",
    "The function to create a shared memory array is:\n",
    "\n",
    "`shared_array = cuda.shared.array(shape,type)\n",
    "`\n",
    "* shape:\n",
    "is either an integer or a tuple of integers representing the array’s dimensions.\n",
    "* type:\n",
    "is a Numba type of the elements needing to be stored in the array.\n",
    "\n",
    "The memory is allocated once for the duration of the kernel, unlike traditional dynamic memory management.\n",
    "Because the shared memory is a limited resource, it is often necessary to preload a small block at a time from the input arrays. All the threads then need to wait until everyone has finished preloading before doing the computation on the shared memory.\n",
    "\n",
    "Synchronization is then required again after the computation to ensure all threads have finished with the data in shared memory before overwriting it in the next loop iteration.\n",
    "\n",
    "The function to synchronized threads is:\n",
    "\n",
    "`\n",
    "cuda.syncthreads()\n",
    "`\n",
    "\n",
    "This function will synchronize all threads in the same thread block. This function implements the same pattern as barriers in traditional multi-threaded programming and the MPI.Barrier() function. The program will wait until all threads in the block call the function, at which point it returns control to all its callers."
   ]
  },
  {
   "cell_type": "markdown",
   "metadata": {},
   "source": [
    "## Improved matrix multiplication\n",
    "\n",
    "The following example shows how shared memory can be used when performing matrix multiplication.\n",
    "\n",
    "In this example, each thread block is responsible for computing a square sub-matrix of C and each thread for computing an element of the sub-matrix. The sub-matrix is equal to the product of a square sub-matrix of A (sA) and a square sub-matrix of B (sB). In order to fit into the device resources, the two input matrices are divided into as many square sub-matrices of dimension TPB as necessary, and the result computed as the sum of the products of these square sub-matrices.\n",
    "\n",
    "Each product is performed by first loading sA and sB from global memory to shared memory, with one thread loading each element of each sub-matrix. Once sA and sB have been loaded, each thread accumulates the result into a register (tmp). Once all the products have been calculated, the results are written to the matrix C in global memory.\n",
    "\n",
    "By blocking the computation this way, we can reduce the number of global memory accesses since A is now only read B.shape[1] / TPB times and B is read A.shape[0] / TPB times."
   ]
  },
  {
   "cell_type": "code",
   "execution_count": 2,
   "metadata": {},
   "outputs": [
    {
     "name": "stdout",
     "output_type": "stream",
     "text": [
      "blockspergrid(2, 2)\n",
      "threadsperblock(2, 2)\n"
     ]
    }
   ],
   "source": [
    "from __future__ import division\n",
    "from numba import cuda, float32\n",
    "import numpy\n",
    "import math\n",
    "\n",
    "# Controls threads per block and shared memory usage.\n",
    "# The computation will be done on blocks of TPBxTPB elements.\n",
    "TPB = 2\n",
    "\n",
    "@cuda.jit\n",
    "def fast_matmul(A, B, C):\n",
    "    \"\"\"\n",
    "    Perform matrix multiplication of C = A * B\n",
    "    Each thread computes one element of the result matrix C\n",
    "    \"\"\"\n",
    "\n",
    "    # Define an array in the shared memory\n",
    "    # The size and type of the arrays must be known at compile time\n",
    "    sA = cuda.shared.array(shape=(TPB, TPB), dtype=float32)\n",
    "    sB = cuda.shared.array(shape=(TPB, TPB), dtype=float32)\n",
    "\n",
    "    x, y = cuda.grid(2)\n",
    "    \n",
    "    tx = cuda.threadIdx.x\n",
    "    ty = cuda.threadIdx.y\n",
    "    \n",
    "    if x >= C.shape[0] and y >= C.shape[1]:\n",
    "        # Quit if (x, y) is outside of valid C boundary\n",
    "        return\n",
    "\n",
    "    # Each thread computes one element in the result matrix.\n",
    "    # The dot product is chunked into dot products of TPB-long vectors.\n",
    "    tmp = 0.\n",
    "    for i in range(int(A.shape[1] / TPB)):\n",
    "        # Preload data into shared memory\n",
    "        sA[tx, ty] = A[x, ty + i * TPB]\n",
    "        sB[tx, ty] = B[tx + i * TPB, y]\n",
    "\n",
    "        # Wait until all threads finish preloading\n",
    "        cuda.syncthreads()\n",
    "\n",
    "        # Computes partial product on the shared memory\n",
    "        for j in range(TPB):\n",
    "            tmp += sA[tx, j] * sB[j, ty]\n",
    "\n",
    "        # Wait until all threads finish computing\n",
    "        cuda.syncthreads()\n",
    "\n",
    "    C[x, y] = tmp\n",
    "\n",
    "# The data array\n",
    "A = numpy.full((TPB*2, TPB*100000), 3, numpy.float) # [4 x 16] matrix containing all 3's\n",
    "B = numpy.full((TPB*100000, TPB*2), 4, numpy.float) # [16 x 4] matrix containing all 4's\n",
    "\n",
    "#print(\"A: {}\\n\".format(A))\n",
    "#print(\"B: {}\\n\".format(B))\n",
    "\n",
    "A_global_mem = cuda.to_device(A)\n",
    "B_global_mem = cuda.to_device(B)\n",
    "C_global_mem = cuda.device_array((TPB*2, TPB*2)) # [4 x 4] matrix result\n",
    "\n",
    "# Configure the blocks\n",
    "threadsperblock = (TPB, TPB)\n",
    "blockspergrid_x = int(np.ceil(A.shape[0] / threadsperblock[1]))\n",
    "blockspergrid_y = int(np.ceil(B.shape[1] / threadsperblock[0]))\n",
    "blockspergrid = (blockspergrid_x, blockspergrid_y)\n",
    "print('blockspergrid{}'.format(blockspergrid))\n",
    "print('threadsperblock{}'.format(threadsperblock))\n",
    "\n"
   ]
  },
  {
   "cell_type": "code",
   "execution_count": 3,
   "metadata": {},
   "outputs": [
    {
     "name": "stdout",
     "output_type": "stream",
     "text": [
      "CPU times: user 2 µs, sys: 1e+03 ns, total: 3 µs\n",
      "Wall time: 5.72 µs\n",
      "[[ 2400000.  2400000.  2400000.  2400000.]\n",
      " [ 2400000.  2400000.  2400000.  2400000.]\n",
      " [ 2400000.  2400000.  2400000.  2400000.]\n",
      " [ 2400000.  2400000.  2400000.  2400000.]]\n"
     ]
    }
   ],
   "source": [
    "%time\n",
    "# Start the kernel \n",
    "fast_matmul[blockspergrid, threadsperblock](A_global_mem, B_global_mem, C_global_mem)\n",
    "res = C_global_mem.copy_to_host()\n",
    "\n",
    "print(res)"
   ]
  },
  {
   "cell_type": "code",
   "execution_count": 5,
   "metadata": {},
   "outputs": [
    {
     "name": "stdout",
     "output_type": "stream",
     "text": [
      "CPU times: user 1e+03 ns, sys: 1 µs, total: 2 µs\n",
      "Wall time: 5.96 µs\n"
     ]
    },
    {
     "data": {
      "text/plain": [
       "array([[ 2400000.,  2400000.,  2400000.,  2400000.],\n",
       "       [ 2400000.,  2400000.,  2400000.,  2400000.],\n",
       "       [ 2400000.,  2400000.,  2400000.,  2400000.],\n",
       "       [ 2400000.,  2400000.,  2400000.,  2400000.]])"
      ]
     },
     "execution_count": 5,
     "metadata": {},
     "output_type": "execute_result"
    }
   ],
   "source": [
    "%time\n",
    "np.matmul(A,B)\n",
    "# whatever numpy is doing is awsome..."
   ]
  },
  {
   "cell_type": "markdown",
   "metadata": {},
   "source": [
    "## Voronoi with Jump Flood\n"
   ]
  },
  {
   "cell_type": "code",
   "execution_count": 161,
   "metadata": {},
   "outputs": [],
   "source": [
    "\n",
    "Seeds_Position = [(50,50), (100,250), (300,200), (169,169), (10,40)]\n",
    "\n",
    "Seed_number = len(Seeds_Position)\n",
    "A = np.zeros((320,320)) -1\n",
    "for i in range(len(Seeds_Position)):\n",
    "    A[Seeds_Position[i]] = i\n",
    "\n",
    "offsets = [ (-1,-1),(-1,0),(-1,1),(0,-1),(0,1),(1,-1),(1,0),(1,1),(0,0) ]\n",
    "offsets_number = len(offsets)\n",
    "\n",
    "@cuda.jit\n",
    "def Voronoi(A, B, Seeds_Position, offsets, k):\n",
    "    cellx, celly = cuda.grid(2)\n",
    "    \n",
    "    soffsets= cuda.shared.array(shape=(offsets_number, 2), dtype=float32)\n",
    "    sSeeds_Position = cuda.shared.array(shape=(Seed_number, 2), dtype=float32)\n",
    "    \n",
    "    # first thread of each block copies Seeds_Position and offsets to shared memory\n",
    "    tx = cuda.threadIdx.x\n",
    "    ty = cuda.threadIdx.y\n",
    "    if tx == 0 and ty == 0:\n",
    "        cuda.syncthreads()\n",
    "        for i in range(offsets_number):\n",
    "            soffsets[i,0] = offsets[i,0]\n",
    "            soffsets[i,1] = offsets[i,1]\n",
    "        for i in range(Seed_number):\n",
    "            sSeeds_Position[i,0] = Seeds_Position[i,0]\n",
    "            sSeeds_Position[i,1] = Seeds_Position[i,1]\n",
    "        cuda.syncthreads()\n",
    "        \n",
    "    seed = A[cellx,celly]\n",
    "    if (seed < 0):\n",
    "        return\n",
    "    \n",
    "    for i in range(len(offsets)):\n",
    "        nextCellx = int(cellx + k*soffsets[i][0])\n",
    "        nextCelly = int(celly + k*soffsets[i][1])\n",
    "        \n",
    "        if nextCellx>0 and nextCellx<A.shape[0] and nextCelly>0 and nextCelly<A.shape[1]:\n",
    "            \n",
    "            # Critical Session\n",
    "            cuda.syncthreads()\n",
    "\n",
    "            nextSeed = B[nextCellx,nextCelly]\n",
    "            if nextSeed < 0:\n",
    "                B[nextCellx,nextCelly] = seed\n",
    "            else:\n",
    "                # Read shared memory\n",
    "                seedx,seedy = sSeeds_Position[int(seed)]\n",
    "                nextSeedx,nextSeedy = sSeeds_Position[int(nextSeed)]\n",
    "                \n",
    "                # compute distance from seed and nextSeed\n",
    "                dist_seed = (nextCellx - seedx)**2 + (nextCelly - seedy)**2\n",
    "                dist_nextSeed = (nextCellx - nextSeedx)**2 + (nextCelly - nextSeedy)**2\n",
    "                if dist_seed < dist_nextSeed:\n",
    "                    B[nextCellx,nextCelly] = seed\n",
    "                    \n",
    "            cuda.syncthreads()\n",
    "\n",
    "\n",
    "                "
   ]
  },
  {
   "cell_type": "code",
   "execution_count": 173,
   "metadata": {},
   "outputs": [
    {
     "name": "stdout",
     "output_type": "stream",
     "text": [
      "(320, 320)\n",
      "(10, 10)\n",
      "(32, 32)\n"
     ]
    }
   ],
   "source": [
    "\n",
    "n,m = A.shape       \n",
    "A_global_mem = cuda.to_device(A)\n",
    "B_global_mem = cuda.to_device(A)\n",
    "Seeds_Position_global_mem = cuda.to_device(np.array(Seeds_Position,dtype=np.int32))\n",
    "offsets_global_mem = cuda.to_device(np.array(offsets,dtype=np.int32))\n",
    "\n",
    "\n",
    "TPB = 32\n",
    "threadsperblock = (TPB,TPB)\n",
    "blockspergrid = ((n+TPB-1)//TPB, (m+TPB-1)//TPB)\n",
    "print(A.shape)\n",
    "print(blockspergrid)\n",
    "print(threadsperblock)\n",
    "\n",
    "q = 2\n",
    "k = n\n",
    "while(k>0):\n",
    "    k = n//(2**q)\n",
    "    q += 1\n",
    "    if q%2 == 0:\n",
    "        src,dst = A_global_mem,B_global_mem\n",
    "    else:\n",
    "        src,dst = B_global_mem,A_global_mem\n",
    "    Voronoi[blockspergrid, threadsperblock](src, dst,\n",
    "                                            Seeds_Position_global_mem, \n",
    "                                            offsets_global_mem,\n",
    "                                            k)\n",
    "\n",
    "res = dst.copy_to_host()"
   ]
  },
  {
   "cell_type": "code",
   "execution_count": 174,
   "metadata": {},
   "outputs": [
    {
     "data": {
      "image/png": "[encoded data removed]",
      "text/plain": [
       "<matplotlib.figure.Figure at 0x7fb3ebb123c8>"
      ]
     },
     "metadata": {},
     "output_type": "display_data"
    },
    {
     "data": {
      "image/png": "[encoded data removed]",
      "text/plain": [
       "<matplotlib.figure.Figure at 0x7fb3eb740940>"
      ]
     },
     "metadata": {},
     "output_type": "display_data"
    }
   ],
   "source": [
    "import matplotlib.pyplot as plt\n",
    "\n",
    "plt.imshow(A)\n",
    "plt.show()\n",
    "\n",
    "plt.imshow(res)\n",
    "plt.show()"
   ]
  },
  {
   "cell_type": "code",
   "execution_count": null,
   "metadata": {},
   "outputs": [],
   "source": []
  }
 ],
 "metadata": {
  "kernelspec": {
   "display_name": "Python 3",
   "language": "python",
   "name": "python3"
  },
  "language_info": {
   "codemirror_mode": {
    "name": "ipython",
    "version": 3
   },
   "file_extension": ".py",
   "mimetype": "text/x-python",
   "name": "python",
   "nbconvert_exporter": "python",
   "pygments_lexer": "ipython3",
   "version": "3.6.3"
  }
 },
 "nbformat": 4,
 "nbformat_minor": 2
}
